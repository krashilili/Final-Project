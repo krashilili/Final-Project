{
 "cells": [
  {
   "cell_type": "code",
   "execution_count": 1,
   "metadata": {},
   "outputs": [],
   "source": [
    "import pandas as pd\n",
    "import re"
   ]
  },
  {
   "cell_type": "code",
   "execution_count": 2,
   "metadata": {},
   "outputs": [],
   "source": [
    "df = pd.read_csv('Dice_US_jobs.csv',encoding=\"ISO-8859-1\")"
   ]
  },
  {
   "cell_type": "code",
   "execution_count": 3,
   "metadata": {},
   "outputs": [
    {
     "data": {
      "text/html": [
       "<div>\n",
       "<style scoped>\n",
       "    .dataframe tbody tr th:only-of-type {\n",
       "        vertical-align: middle;\n",
       "    }\n",
       "\n",
       "    .dataframe tbody tr th {\n",
       "        vertical-align: top;\n",
       "    }\n",
       "\n",
       "    .dataframe thead th {\n",
       "        text-align: right;\n",
       "    }\n",
       "</style>\n",
       "<table border=\"1\" class=\"dataframe\">\n",
       "  <thead>\n",
       "    <tr style=\"text-align: right;\">\n",
       "      <th></th>\n",
       "      <th>country_code</th>\n",
       "      <th>date_added</th>\n",
       "      <th>job_board</th>\n",
       "      <th>job_description</th>\n",
       "      <th>job_title</th>\n",
       "      <th>job_type</th>\n",
       "      <th>location</th>\n",
       "      <th>organization</th>\n",
       "      <th>page_url</th>\n",
       "      <th>phone_number</th>\n",
       "      <th>salary</th>\n",
       "      <th>sector</th>\n",
       "    </tr>\n",
       "  </thead>\n",
       "  <tbody>\n",
       "    <tr>\n",
       "      <th>0</th>\n",
       "      <td>US</td>\n",
       "      <td>11/11/2016</td>\n",
       "      <td>https://www.dice.com</td>\n",
       "      <td>Minimum Required Skills:EDI, TrustedLink, AS2,...</td>\n",
       "      <td>EDI Analyst</td>\n",
       "      <td>Full Time, Full-time, Employee</td>\n",
       "      <td>Stamford, CT</td>\n",
       "      <td>CyberCoders</td>\n",
       "      <td>https://www.dice.com/jobs/detail/EDI-Analyst-%...</td>\n",
       "      <td>NaN</td>\n",
       "      <td>NaN</td>\n",
       "      <td>EDI, TrustedLink, AS2, VAN - EDI, TrustedLink,...</td>\n",
       "    </tr>\n",
       "    <tr>\n",
       "      <th>1</th>\n",
       "      <td>US</td>\n",
       "      <td>11/11/2016</td>\n",
       "      <td>https://www.dice.com</td>\n",
       "      <td>InformaticaåÊ/ ETL DeveloperSt, Petersburg, FL...</td>\n",
       "      <td>Informatica ETL Developer</td>\n",
       "      <td>Full Time, Full Time</td>\n",
       "      <td>St Petersburg, FL</td>\n",
       "      <td>TrustMinds</td>\n",
       "      <td>https://www.dice.com/jobs/detail/Informatica-E...</td>\n",
       "      <td>NaN</td>\n",
       "      <td>NaN</td>\n",
       "      <td>ETL Informatica B2B Data Exchange Netezza Orac...</td>\n",
       "    </tr>\n",
       "    <tr>\n",
       "      <th>2</th>\n",
       "      <td>US</td>\n",
       "      <td>11/11/2016</td>\n",
       "      <td>https://www.dice.com</td>\n",
       "      <td>pmayekar@kanandcorp.com 512-697-8897Sunnyvale ...</td>\n",
       "      <td>Angular developer</td>\n",
       "      <td>Full Time, Contract Corp-To-Corp, Contract Ind...</td>\n",
       "      <td>Sunnyvale, CA</td>\n",
       "      <td>K Anand Corporation</td>\n",
       "      <td>https://www.dice.com/jobs/detail/Angular-devel...</td>\n",
       "      <td>NaN</td>\n",
       "      <td>NaN</td>\n",
       "      <td>Angular</td>\n",
       "    </tr>\n",
       "    <tr>\n",
       "      <th>3</th>\n",
       "      <td>US</td>\n",
       "      <td>11/12/2016</td>\n",
       "      <td>https://www.dice.com</td>\n",
       "      <td>This nationally recognized Microsoft Gold Part...</td>\n",
       "      <td>Microsoft Dynamics AX, Project Manager</td>\n",
       "      <td>Full Time</td>\n",
       "      <td>Toronto, Canada, ON</td>\n",
       "      <td>Nigel Frank International</td>\n",
       "      <td>https://www.dice.com/jobs/detail/Microsoft-Dyn...</td>\n",
       "      <td>NaN</td>\n",
       "      <td>NaN</td>\n",
       "      <td>Microsoft Dynamics AX, Project Manager - Toron...</td>\n",
       "    </tr>\n",
       "    <tr>\n",
       "      <th>4</th>\n",
       "      <td>US</td>\n",
       "      <td>11/11/2016</td>\n",
       "      <td>https://www.dice.com</td>\n",
       "      <td>Minimum Required Skills:C#, ASP.NET, SQL, Java...</td>\n",
       "      <td>Software Developer</td>\n",
       "      <td>Full Time, Full-time, Employee</td>\n",
       "      <td>Stamford, CT</td>\n",
       "      <td>CyberCoders</td>\n",
       "      <td>https://www.dice.com/jobs/detail/Software-Deve...</td>\n",
       "      <td>NaN</td>\n",
       "      <td>NaN</td>\n",
       "      <td>C#, ASP.NET, SQL, JavaScript, MVC - C#, ASP.NE...</td>\n",
       "    </tr>\n",
       "  </tbody>\n",
       "</table>\n",
       "</div>"
      ],
      "text/plain": [
       "  country_code  date_added             job_board  \\\n",
       "0           US  11/11/2016  https://www.dice.com   \n",
       "1           US  11/11/2016  https://www.dice.com   \n",
       "2           US  11/11/2016  https://www.dice.com   \n",
       "3           US  11/12/2016  https://www.dice.com   \n",
       "4           US  11/11/2016  https://www.dice.com   \n",
       "\n",
       "                                     job_description  \\\n",
       "0  Minimum Required Skills:EDI, TrustedLink, AS2,...   \n",
       "1  InformaticaåÊ/ ETL DeveloperSt, Petersburg, FL...   \n",
       "2  pmayekar@kanandcorp.com 512-697-8897Sunnyvale ...   \n",
       "3  This nationally recognized Microsoft Gold Part...   \n",
       "4  Minimum Required Skills:C#, ASP.NET, SQL, Java...   \n",
       "\n",
       "                                job_title  \\\n",
       "0                             EDI Analyst   \n",
       "1               Informatica ETL Developer   \n",
       "2                       Angular developer   \n",
       "3  Microsoft Dynamics AX, Project Manager   \n",
       "4                      Software Developer   \n",
       "\n",
       "                                            job_type             location  \\\n",
       "0                     Full Time, Full-time, Employee         Stamford, CT   \n",
       "1                               Full Time, Full Time    St Petersburg, FL   \n",
       "2  Full Time, Contract Corp-To-Corp, Contract Ind...        Sunnyvale, CA   \n",
       "3                                          Full Time  Toronto, Canada, ON   \n",
       "4                     Full Time, Full-time, Employee         Stamford, CT   \n",
       "\n",
       "                organization  \\\n",
       "0                CyberCoders   \n",
       "1                 TrustMinds   \n",
       "2        K Anand Corporation   \n",
       "3  Nigel Frank International   \n",
       "4                CyberCoders   \n",
       "\n",
       "                                            page_url phone_number salary  \\\n",
       "0  https://www.dice.com/jobs/detail/EDI-Analyst-%...          NaN    NaN   \n",
       "1  https://www.dice.com/jobs/detail/Informatica-E...          NaN    NaN   \n",
       "2  https://www.dice.com/jobs/detail/Angular-devel...          NaN    NaN   \n",
       "3  https://www.dice.com/jobs/detail/Microsoft-Dyn...          NaN    NaN   \n",
       "4  https://www.dice.com/jobs/detail/Software-Deve...          NaN    NaN   \n",
       "\n",
       "                                              sector  \n",
       "0  EDI, TrustedLink, AS2, VAN - EDI, TrustedLink,...  \n",
       "1  ETL Informatica B2B Data Exchange Netezza Orac...  \n",
       "2                                            Angular  \n",
       "3  Microsoft Dynamics AX, Project Manager - Toron...  \n",
       "4  C#, ASP.NET, SQL, JavaScript, MVC - C#, ASP.NE...  "
      ]
     },
     "execution_count": 3,
     "metadata": {},
     "output_type": "execute_result"
    }
   ],
   "source": [
    "df.head()"
   ]
  },
  {
   "cell_type": "code",
   "execution_count": 6,
   "metadata": {},
   "outputs": [
    {
     "name": "stdout",
     "output_type": "stream",
     "text": [
      "13810\n",
      "8155\n"
     ]
    }
   ],
   "source": [
    "# Clean the job titles\n",
    "full_time = 0\n",
    "contract = 0\n",
    "\n",
    "# df['job_type'].apply(lambda jt: str(jt).split(',')[0])\n",
    "for job_type in df['job_type']:\n",
    "    \n",
    "#     print(job)\n",
    "    try:\n",
    "        job = job_type.lower()\n",
    "        if 'full' in job:\n",
    "            full_time += 1\n",
    "\n",
    "        if 'contract' in job:\n",
    "            contract +=1\n",
    "    except:\n",
    "        pass\n",
    "\n",
    "\n",
    "print(full_time)\n",
    "print(contract)"
   ]
  },
  {
   "cell_type": "code",
   "execution_count": 66,
   "metadata": {},
   "outputs": [
    {
     "name": "stdout",
     "output_type": "stream",
     "text": [
      "0\n"
     ]
    }
   ],
   "source": [
    "print(contract)"
   ]
  },
  {
   "cell_type": "code",
   "execution_count": 62,
   "metadata": {},
   "outputs": [
    {
     "data": {
      "text/plain": [
       "1"
      ]
     },
     "execution_count": 62,
     "metadata": {},
     "output_type": "execute_result"
    }
   ],
   "source": [
    "len(unique_job_type)"
   ]
  },
  {
   "cell_type": "code",
   "execution_count": 49,
   "metadata": {},
   "outputs": [
    {
     "data": {
      "text/plain": [
       "309"
      ]
     },
     "execution_count": 49,
     "metadata": {},
     "output_type": "execute_result"
    }
   ],
   "source": [
    "len(unique_job_length)"
   ]
  },
  {
   "cell_type": "code",
   "execution_count": 27,
   "metadata": {},
   "outputs": [],
   "source": [
    "company = df.groupby('organization')\n",
    "org = company.count()['job_type'].sort_values(ascending=False)[:25].to_dict()"
   ]
  },
  {
   "cell_type": "code",
   "execution_count": 28,
   "metadata": {},
   "outputs": [],
   "source": [
    "\n",
    "org['Nigel Frank International Inc'] = org['Nigel Frank International'] + org['Nigel Frank International Inc.']"
   ]
  },
  {
   "cell_type": "code",
   "execution_count": 30,
   "metadata": {},
   "outputs": [
    {
     "data": {
      "text/plain": [
       "104"
      ]
     },
     "execution_count": 30,
     "metadata": {},
     "output_type": "execute_result"
    }
   ],
   "source": [
    "org.pop('Nigel Frank International')\n",
    "org.pop('Nigel Frank International Inc.')"
   ]
  },
  {
   "cell_type": "code",
   "execution_count": 31,
   "metadata": {},
   "outputs": [
    {
     "data": {
      "text/plain": [
       "{'Amazon': 65,\n",
       " 'Bebee Affinity Social Network': 109,\n",
       " 'Booz Allen Hamilton': 92,\n",
       " 'Ciber': 101,\n",
       " 'Cognizant Technology Solutions': 70,\n",
       " 'CyberCoders': 6296,\n",
       " 'Dell': 80,\n",
       " 'Deloitte': 73,\n",
       " 'Experis': 124,\n",
       " 'Genesis10': 60,\n",
       " 'Kforce Inc.': 736,\n",
       " 'Mason Frank International': 74,\n",
       " 'Matrix Resources': 136,\n",
       " 'Modis': 67,\n",
       " 'NORTHROP GRUMMAN': 275,\n",
       " 'Net2Source Inc.': 71,\n",
       " 'Nigel Frank International Inc': 173,\n",
       " 'Princeton Information Ltd': 66,\n",
       " 'Randstad Technologies': 268,\n",
       " 'Robert Half Technology': 838,\n",
       " 'Somasoft Solutions. Inc.': 60,\n",
       " 'TEKsystems': 1031,\n",
       " 'The Judge Group': 157,\n",
       " 'UnitedHealth Group': 102}"
      ]
     },
     "execution_count": 31,
     "metadata": {},
     "output_type": "execute_result"
    }
   ],
   "source": [
    "org"
   ]
  },
  {
   "cell_type": "code",
   "execution_count": null,
   "metadata": {},
   "outputs": [],
   "source": []
  }
 ],
 "metadata": {
  "kernelspec": {
   "display_name": "Python 3",
   "language": "python",
   "name": "python3"
  },
  "language_info": {
   "codemirror_mode": {
    "name": "ipython",
    "version": 3
   },
   "file_extension": ".py",
   "mimetype": "text/x-python",
   "name": "python",
   "nbconvert_exporter": "python",
   "pygments_lexer": "ipython3",
   "version": "3.6.4"
  }
 },
 "nbformat": 4,
 "nbformat_minor": 2
}
